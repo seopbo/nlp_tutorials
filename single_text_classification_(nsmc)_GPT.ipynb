{
  "nbformat": 4,
  "nbformat_minor": 0,
  "metadata": {
    "colab": {
      "name": "single text classification (nsmc)-GPT",
      "provenance": [],
      "collapsed_sections": [],
      "authorship_tag": "ABX9TyOuA1uYVSuqTiBPCb/9Dfy/",
      "include_colab_link": true
    },
    "kernelspec": {
      "name": "python3",
      "display_name": "Python 3"
    },
    "language_info": {
      "name": "python"
    },
    "accelerator": "GPU"
  },
  "cells": [
    {
      "cell_type": "markdown",
      "metadata": {
        "id": "view-in-github",
        "colab_type": "text"
      },
      "source": [
        "<a href=\"https://colab.research.google.com/github/seopbo/nlp_tutorials/blob/main/single_text_classification_(nsmc)_GPT.ipynb\" target=\"_parent\"><img src=\"https://colab.research.google.com/assets/colab-badge.svg\" alt=\"Open In Colab\"/></a>"
      ]
    },
    {
      "cell_type": "markdown",
      "metadata": {
        "id": "HVfGeOOShhjS"
      },
      "source": [
        "# Single text classification - GPT\n",
        "- pre-trained language model로는 `skt/kogpt2-base-v2`를 사용합니다.\n",
        "  - https://huggingface.co/skt/kogpt2-base-v2\n",
        "- single text classification task를 수행하는 예시 데이터셋으로는 `nsmc`를 사용합니다.\n",
        "  - https://huggingface.co/datasets/nsmc"
      ]
    },
    {
      "cell_type": "markdown",
      "metadata": {
        "id": "ZAWqkYl7h01y"
      },
      "source": [
        "## Setup\n",
        "어떠한 GPU가 할당되었는 지 아래의 코드 셀을 실행함으로써 확인할 수 있습니다."
      ]
    },
    {
      "cell_type": "code",
      "metadata": {
        "colab": {
          "base_uri": "https://localhost:8080/"
        },
        "id": "aYIuMCwhNJuw",
        "outputId": "9821ecb9-3aea-4d08-fc67-022cbed9fd5e"
      },
      "source": [
        "gpu_info = !nvidia-smi\n",
        "gpu_info = '\\n'.join(gpu_info)\n",
        "\n",
        "if gpu_info.find('failed') >= 0:\n",
        "    print('Not connected to a GPU')\n",
        "else:\n",
        "    print(gpu_info)"
      ],
      "execution_count": null,
      "outputs": [
        {
          "output_type": "stream",
          "name": "stdout",
          "text": [
            "Fri Dec 24 05:10:50 2021       \n",
            "+-----------------------------------------------------------------------------+\n",
            "| NVIDIA-SMI 495.44       Driver Version: 460.32.03    CUDA Version: 11.2     |\n",
            "|-------------------------------+----------------------+----------------------+\n",
            "| GPU  Name        Persistence-M| Bus-Id        Disp.A | Volatile Uncorr. ECC |\n",
            "| Fan  Temp  Perf  Pwr:Usage/Cap|         Memory-Usage | GPU-Util  Compute M. |\n",
            "|                               |                      |               MIG M. |\n",
            "|===============================+======================+======================|\n",
            "|   0  Tesla P100-PCIE...  Off  | 00000000:00:04.0 Off |                    0 |\n",
            "| N/A   55C    P0    36W / 250W |      0MiB / 16280MiB |      0%      Default |\n",
            "|                               |                      |                  N/A |\n",
            "+-------------------------------+----------------------+----------------------+\n",
            "                                                                               \n",
            "+-----------------------------------------------------------------------------+\n",
            "| Processes:                                                                  |\n",
            "|  GPU   GI   CI        PID   Type   Process name                  GPU Memory |\n",
            "|        ID   ID                                                   Usage      |\n",
            "|=============================================================================|\n",
            "|  No running processes found                                                 |\n",
            "+-----------------------------------------------------------------------------+\n"
          ]
        }
      ]
    },
    {
      "cell_type": "markdown",
      "metadata": {
        "id": "B_nO1r5CAhO_"
      },
      "source": [
        "아래의 코드 셀을 실행함으로써 본 노트북을 실행하기위한 library를 install하고 load합니다."
      ]
    },
    {
      "cell_type": "code",
      "metadata": {
        "colab": {
          "base_uri": "https://localhost:8080/"
        },
        "id": "ASYkTRHbh4pE",
        "outputId": "5da8270d-f046-4028-f49e-ab3caf0b0807"
      },
      "source": [
        "!pip install torch\n",
        "!pip install transformers\n",
        "!pip install datasets\n",
        "!pip install -U scikit-learn\n",
        "\n",
        "import torch\n",
        "import transformers\n",
        "import datasets"
      ],
      "execution_count": null,
      "outputs": [
        {
          "output_type": "stream",
          "name": "stdout",
          "text": [
            "Requirement already satisfied: torch in /usr/local/lib/python3.7/dist-packages (1.10.0+cu111)\n",
            "Requirement already satisfied: typing-extensions in /usr/local/lib/python3.7/dist-packages (from torch) (3.10.0.2)\n",
            "Requirement already satisfied: transformers in /usr/local/lib/python3.7/dist-packages (4.15.0)\n",
            "Requirement already satisfied: filelock in /usr/local/lib/python3.7/dist-packages (from transformers) (3.4.0)\n",
            "Requirement already satisfied: packaging>=20.0 in /usr/local/lib/python3.7/dist-packages (from transformers) (21.3)\n",
            "Requirement already satisfied: regex!=2019.12.17 in /usr/local/lib/python3.7/dist-packages (from transformers) (2019.12.20)\n",
            "Requirement already satisfied: importlib-metadata in /usr/local/lib/python3.7/dist-packages (from transformers) (4.8.2)\n",
            "Requirement already satisfied: tokenizers<0.11,>=0.10.1 in /usr/local/lib/python3.7/dist-packages (from transformers) (0.10.3)\n",
            "Requirement already satisfied: tqdm>=4.27 in /usr/local/lib/python3.7/dist-packages (from transformers) (4.62.3)\n",
            "Requirement already satisfied: requests in /usr/local/lib/python3.7/dist-packages (from transformers) (2.23.0)\n",
            "Requirement already satisfied: pyyaml>=5.1 in /usr/local/lib/python3.7/dist-packages (from transformers) (6.0)\n",
            "Requirement already satisfied: numpy>=1.17 in /usr/local/lib/python3.7/dist-packages (from transformers) (1.19.5)\n",
            "Requirement already satisfied: sacremoses in /usr/local/lib/python3.7/dist-packages (from transformers) (0.0.46)\n",
            "Requirement already satisfied: huggingface-hub<1.0,>=0.1.0 in /usr/local/lib/python3.7/dist-packages (from transformers) (0.2.1)\n",
            "Requirement already satisfied: typing-extensions>=3.7.4.3 in /usr/local/lib/python3.7/dist-packages (from huggingface-hub<1.0,>=0.1.0->transformers) (3.10.0.2)\n",
            "Requirement already satisfied: pyparsing!=3.0.5,>=2.0.2 in /usr/local/lib/python3.7/dist-packages (from packaging>=20.0->transformers) (3.0.6)\n",
            "Requirement already satisfied: zipp>=0.5 in /usr/local/lib/python3.7/dist-packages (from importlib-metadata->transformers) (3.6.0)\n",
            "Requirement already satisfied: chardet<4,>=3.0.2 in /usr/local/lib/python3.7/dist-packages (from requests->transformers) (3.0.4)\n",
            "Requirement already satisfied: certifi>=2017.4.17 in /usr/local/lib/python3.7/dist-packages (from requests->transformers) (2021.10.8)\n",
            "Requirement already satisfied: idna<3,>=2.5 in /usr/local/lib/python3.7/dist-packages (from requests->transformers) (2.10)\n",
            "Requirement already satisfied: urllib3!=1.25.0,!=1.25.1,<1.26,>=1.21.1 in /usr/local/lib/python3.7/dist-packages (from requests->transformers) (1.24.3)\n",
            "Requirement already satisfied: joblib in /usr/local/lib/python3.7/dist-packages (from sacremoses->transformers) (1.1.0)\n",
            "Requirement already satisfied: six in /usr/local/lib/python3.7/dist-packages (from sacremoses->transformers) (1.15.0)\n",
            "Requirement already satisfied: click in /usr/local/lib/python3.7/dist-packages (from sacremoses->transformers) (7.1.2)\n",
            "Requirement already satisfied: datasets in /usr/local/lib/python3.7/dist-packages (1.17.0)\n",
            "Requirement already satisfied: xxhash in /usr/local/lib/python3.7/dist-packages (from datasets) (2.0.2)\n",
            "Requirement already satisfied: huggingface-hub<1.0.0,>=0.1.0 in /usr/local/lib/python3.7/dist-packages (from datasets) (0.2.1)\n",
            "Requirement already satisfied: pyarrow!=4.0.0,>=3.0.0 in /usr/local/lib/python3.7/dist-packages (from datasets) (3.0.0)\n",
            "Requirement already satisfied: requests>=2.19.0 in /usr/local/lib/python3.7/dist-packages (from datasets) (2.23.0)\n",
            "Requirement already satisfied: aiohttp in /usr/local/lib/python3.7/dist-packages (from datasets) (3.8.1)\n",
            "Requirement already satisfied: packaging in /usr/local/lib/python3.7/dist-packages (from datasets) (21.3)\n",
            "Requirement already satisfied: pandas in /usr/local/lib/python3.7/dist-packages (from datasets) (1.1.5)\n",
            "Requirement already satisfied: importlib-metadata in /usr/local/lib/python3.7/dist-packages (from datasets) (4.8.2)\n",
            "Requirement already satisfied: fsspec[http]>=2021.05.0 in /usr/local/lib/python3.7/dist-packages (from datasets) (2021.11.1)\n",
            "Requirement already satisfied: tqdm>=4.62.1 in /usr/local/lib/python3.7/dist-packages (from datasets) (4.62.3)\n",
            "Requirement already satisfied: numpy>=1.17 in /usr/local/lib/python3.7/dist-packages (from datasets) (1.19.5)\n",
            "Requirement already satisfied: dill in /usr/local/lib/python3.7/dist-packages (from datasets) (0.3.4)\n",
            "Requirement already satisfied: multiprocess in /usr/local/lib/python3.7/dist-packages (from datasets) (0.70.12.2)\n",
            "Requirement already satisfied: pyyaml in /usr/local/lib/python3.7/dist-packages (from huggingface-hub<1.0.0,>=0.1.0->datasets) (6.0)\n",
            "Requirement already satisfied: filelock in /usr/local/lib/python3.7/dist-packages (from huggingface-hub<1.0.0,>=0.1.0->datasets) (3.4.0)\n",
            "Requirement already satisfied: typing-extensions>=3.7.4.3 in /usr/local/lib/python3.7/dist-packages (from huggingface-hub<1.0.0,>=0.1.0->datasets) (3.10.0.2)\n",
            "Requirement already satisfied: pyparsing!=3.0.5,>=2.0.2 in /usr/local/lib/python3.7/dist-packages (from packaging->datasets) (3.0.6)\n",
            "Requirement already satisfied: urllib3!=1.25.0,!=1.25.1,<1.26,>=1.21.1 in /usr/local/lib/python3.7/dist-packages (from requests>=2.19.0->datasets) (1.24.3)\n",
            "Requirement already satisfied: idna<3,>=2.5 in /usr/local/lib/python3.7/dist-packages (from requests>=2.19.0->datasets) (2.10)\n",
            "Requirement already satisfied: chardet<4,>=3.0.2 in /usr/local/lib/python3.7/dist-packages (from requests>=2.19.0->datasets) (3.0.4)\n",
            "Requirement already satisfied: certifi>=2017.4.17 in /usr/local/lib/python3.7/dist-packages (from requests>=2.19.0->datasets) (2021.10.8)\n",
            "Requirement already satisfied: asynctest==0.13.0 in /usr/local/lib/python3.7/dist-packages (from aiohttp->datasets) (0.13.0)\n",
            "Requirement already satisfied: multidict<7.0,>=4.5 in /usr/local/lib/python3.7/dist-packages (from aiohttp->datasets) (5.2.0)\n",
            "Requirement already satisfied: yarl<2.0,>=1.0 in /usr/local/lib/python3.7/dist-packages (from aiohttp->datasets) (1.7.2)\n",
            "Requirement already satisfied: charset-normalizer<3.0,>=2.0 in /usr/local/lib/python3.7/dist-packages (from aiohttp->datasets) (2.0.8)\n",
            "Requirement already satisfied: attrs>=17.3.0 in /usr/local/lib/python3.7/dist-packages (from aiohttp->datasets) (21.2.0)\n",
            "Requirement already satisfied: frozenlist>=1.1.1 in /usr/local/lib/python3.7/dist-packages (from aiohttp->datasets) (1.2.0)\n",
            "Requirement already satisfied: aiosignal>=1.1.2 in /usr/local/lib/python3.7/dist-packages (from aiohttp->datasets) (1.2.0)\n",
            "Requirement already satisfied: async-timeout<5.0,>=4.0.0a3 in /usr/local/lib/python3.7/dist-packages (from aiohttp->datasets) (4.0.2)\n",
            "Requirement already satisfied: zipp>=0.5 in /usr/local/lib/python3.7/dist-packages (from importlib-metadata->datasets) (3.6.0)\n",
            "Requirement already satisfied: python-dateutil>=2.7.3 in /usr/local/lib/python3.7/dist-packages (from pandas->datasets) (2.8.2)\n",
            "Requirement already satisfied: pytz>=2017.2 in /usr/local/lib/python3.7/dist-packages (from pandas->datasets) (2018.9)\n",
            "Requirement already satisfied: six>=1.5 in /usr/local/lib/python3.7/dist-packages (from python-dateutil>=2.7.3->pandas->datasets) (1.15.0)\n",
            "Requirement already satisfied: scikit-learn in /usr/local/lib/python3.7/dist-packages (1.0.1)\n",
            "Requirement already satisfied: numpy>=1.14.6 in /usr/local/lib/python3.7/dist-packages (from scikit-learn) (1.19.5)\n",
            "Requirement already satisfied: threadpoolctl>=2.0.0 in /usr/local/lib/python3.7/dist-packages (from scikit-learn) (3.0.0)\n",
            "Requirement already satisfied: joblib>=0.11 in /usr/local/lib/python3.7/dist-packages (from scikit-learn) (1.1.0)\n",
            "Requirement already satisfied: scipy>=1.1.0 in /usr/local/lib/python3.7/dist-packages (from scikit-learn) (1.4.1)\n"
          ]
        }
      ]
    },
    {
      "cell_type": "markdown",
      "metadata": {
        "id": "enQEpWN6jxkj"
      },
      "source": [
        "## Preprocess data\n",
        "1. `skt/kogpt2-base-v2`가 사용한 subword tokenizer를 load합니다.\n",
        "2. `datasets` library를 이용하여 `nsmc`를 load합니다.\n",
        "3. 1의 subword tokenizer를 이용 `nsmc`의 data를 single text classification을 수행할 수 있는 형태, train example로 transform합니다.\n",
        "  - `<s> tok 1 ... tok N </s>`로 만들고, 이를 list_of_integers로 transform합니다.\n",
        "\n",
        "![image.png](data:image/png;base64,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)"
      ]
    },
    {
      "cell_type": "code",
      "metadata": {
        "colab": {
          "base_uri": "https://localhost:8080/"
        },
        "id": "mA4rd0acBHuj",
        "outputId": "c6b732c4-3f33-4bcf-bc18-3f4979244a80"
      },
      "source": [
        "from datasets import load_dataset\n",
        "\n",
        "cs = load_dataset(\"nsmc\", split=\"train\")\n",
        "cs = cs.train_test_split(0.1)\n",
        "test_cs = load_dataset(\"nsmc\", split=\"test\")\n",
        "train_cs = cs[\"train\"]\n",
        "valid_cs = cs[\"test\"]"
      ],
      "execution_count": null,
      "outputs": [
        {
          "output_type": "stream",
          "name": "stderr",
          "text": [
            "Using custom data configuration default\n",
            "Reusing dataset nsmc (/root/.cache/huggingface/datasets/nsmc/default/1.1.0/bfd4729bf1a67114e5267e6916b9e4807010aeb238e4a3c2b95fbfa3a014b5f3)\n",
            "Loading cached split indices for dataset at /root/.cache/huggingface/datasets/nsmc/default/1.1.0/bfd4729bf1a67114e5267e6916b9e4807010aeb238e4a3c2b95fbfa3a014b5f3/cache-15d5d0ad4fc15cd3.arrow and /root/.cache/huggingface/datasets/nsmc/default/1.1.0/bfd4729bf1a67114e5267e6916b9e4807010aeb238e4a3c2b95fbfa3a014b5f3/cache-637d4282c67b8aa1.arrow\n",
            "Using custom data configuration default\n",
            "Reusing dataset nsmc (/root/.cache/huggingface/datasets/nsmc/default/1.1.0/bfd4729bf1a67114e5267e6916b9e4807010aeb238e4a3c2b95fbfa3a014b5f3)\n"
          ]
        }
      ]
    },
    {
      "cell_type": "markdown",
      "metadata": {
        "id": "z_1pvkH6BYhR"
      },
      "source": [
        "transform을 위한 함수를 정의하고 적용합니다. 먼저 `skt/kogpt2-base-v2`가 사용하는 subword tokenizer의 special tokens들을 확인합니다."
      ]
    },
    {
      "cell_type": "code",
      "metadata": {
        "colab": {
          "base_uri": "https://localhost:8080/"
        },
        "id": "0c0NW0yBQ0o_",
        "outputId": "de6f99d1-b470-4e34-f89f-f146148eb455"
      },
      "source": [
        "from transformers import GPT2TokenizerFast, GPT2Config\n",
        "\n",
        "test_tokenizer = GPT2TokenizerFast.from_pretrained(\"skt/kogpt2-base-v2\")\n",
        "print(test_tokenizer.convert_ids_to_tokens(0))\n",
        "print(test_tokenizer.convert_ids_to_tokens(1))\n",
        "print(test_tokenizer.convert_ids_to_tokens(2))\n",
        "print(test_tokenizer.convert_ids_to_tokens(3))\n",
        "print(test_tokenizer.convert_ids_to_tokens(4))\n",
        "print(test_tokenizer.convert_ids_to_tokens(5))"
      ],
      "execution_count": null,
      "outputs": [
        {
          "output_type": "stream",
          "name": "stderr",
          "text": [
            "Special tokens have been added in the vocabulary, make sure the associated word embeddings are fine-tuned or trained.\n"
          ]
        },
        {
          "output_type": "stream",
          "name": "stdout",
          "text": [
            "<s>\n",
            "</s>\n",
            "<usr>\n",
            "<pad>\n",
            "<sys>\n",
            "<unk>\n"
          ]
        }
      ]
    },
    {
      "cell_type": "markdown",
      "source": [
        "Figure 1의 classification 유형과 동일하게 처리하기위해서, `build_inputs_with_special_tokens` method를 overriding합니다. `build_inputs_with_special_tokens`를 overriding하면 `prepare_for_model` method 사용 시 그 변경사항이 반영됩니다."
      ],
      "metadata": {
        "id": "Lb4i8z6ZsMc2"
      }
    },
    {
      "cell_type": "code",
      "metadata": {
        "id": "mUMuaxTSnaED"
      },
      "source": [
        "from transformers import GPT2TokenizerFast, GPT2Config\n",
        "\n",
        "\n",
        "class CustomGPT2TokenizerFast(GPT2TokenizerFast):\n",
        "    def build_inputs_with_special_tokens(self, token_ids_0, token_ids_1=None):\n",
        "        \"\"\"\n",
        "        Build model inputs from a sequence or a pair of sequence for sequence classification tasks by concatenating and\n",
        "        adding special tokens. A GPT sequence has the following format:\n",
        "\n",
        "        - single sequence: ``<s> X </s>``\n",
        "        - pair of sequences: ``<s> A </s> B </s>``\n",
        "\n",
        "        Args:\n",
        "            token_ids_0 (:obj:`List[int]`):\n",
        "                List of IDs to which the special tokens will be added.\n",
        "            token_ids_1 (:obj:`List[int]`, `optional`):\n",
        "                Optional second list of IDs for sequence pairs.\n",
        "\n",
        "        Returns:\n",
        "            :obj:`List[int]`: List of `input IDs <../glossary.html#input-ids>`__ with the appropriate special tokens.\n",
        "        \"\"\"\n",
        "        output = [tokenizer.bos_token_id] + token_ids_0 + [tokenizer.eos_token_id]\n",
        "\n",
        "        if token_ids_1:\n",
        "            output += token_ids_1 + [tokenizer.eos_token_id]\n",
        "\n",
        "        return output"
      ],
      "execution_count": null,
      "outputs": []
    },
    {
      "cell_type": "code",
      "metadata": {
        "colab": {
          "base_uri": "https://localhost:8080/"
        },
        "id": "T_gnepl9BDpa",
        "outputId": "6d6f06fd-13c2-4b70-db09-972169dd0d3a"
      },
      "source": [
        "tokenizer = CustomGPT2TokenizerFast.from_pretrained(\"skt/kogpt2-base-v2\")\n",
        "tokenizer.pad_token = \"<pad>\"\n",
        "tokenizer.unk_token = \"<unk>\"\n",
        "tokenizer.bos_token = \"<s>\"\n",
        "tokenizer.eos_token = \"</s>\"\n",
        "config = GPT2Config.from_pretrained(\"skt/kogpt2-base-v2\")\n",
        "\n",
        "print(tokenizer.__class__)\n",
        "print(config.__class__)\n",
        "print(tokenizer.prepare_for_model(tokenizer(\"예시문장입니다.\")[\"input_ids\"]))"
      ],
      "execution_count": null,
      "outputs": [
        {
          "output_type": "stream",
          "name": "stderr",
          "text": [
            "The tokenizer class you load from this checkpoint is not the same type as the class this function is called from. It may result in unexpected tokenization. \n",
            "The tokenizer class you load from this checkpoint is 'GPT2Tokenizer'. \n",
            "The class this function is called from is 'CustomGPT2TokenizerFast'.\n",
            "Special tokens have been added in the vocabulary, make sure the associated word embeddings are fine-tuned or trained.\n"
          ]
        },
        {
          "output_type": "stream",
          "name": "stdout",
          "text": [
            "<class '__main__.CustomGPT2TokenizerFast'>\n",
            "<class 'transformers.models.gpt2.configuration_gpt2.GPT2Config'>\n",
            "{'input_ids': [0, 9182, 7888, 28915, 21154, 1], 'attention_mask': [1, 1, 1, 1, 1, 1]}\n"
          ]
        }
      ]
    },
    {
      "cell_type": "markdown",
      "source": [
        "`__call__` method를 사용하지않고 단계적으로 `tokenize`, `convert_tokens_to_ids`, `prepare_for_model` method를 이용하여, `transform` function을 구현합니다."
      ],
      "metadata": {
        "id": "Fk8a85ButbZG"
      }
    },
    {
      "cell_type": "code",
      "source": [
        "from typing import Union, List, Dict\n",
        "\n",
        "\n",
        "def transform(sentences: Union[str, List[str]], tokenizer) -> Dict[str, List[List[int]]]:\n",
        "    if not isinstance(sentences, list):\n",
        "        sentences = [sentences]\n",
        "    dicf_of_training_examples: Dict[str, List[List[int]]] = {}\n",
        "\n",
        "    for sentence in sentences:\n",
        "        list_of_tokens = tokenizer.tokenize(sentence)\n",
        "        list_of_ids = tokenizer.convert_tokens_to_ids(list_of_tokens)\n",
        "        training_example = tokenizer.prepare_for_model(list_of_ids, add_special_tokens=True, padding=False, truncation=False)\n",
        "\n",
        "        for key in training_example.keys():\n",
        "            if key not in dicf_of_training_examples:\n",
        "                dicf_of_training_examples.setdefault(key, [])\n",
        "            dicf_of_training_examples[key].append(training_example[key])\n",
        "    return dicf_of_training_examples\n",
        "\n",
        "samples = train_cs[:2]\n",
        "transformed_samples = transform(samples[\"document\"], tokenizer)\n",
        "\n",
        "print(samples)\n",
        "print(transformed_samples)"
      ],
      "metadata": {
        "colab": {
          "base_uri": "https://localhost:8080/"
        },
        "id": "qbs-NZAStT5k",
        "outputId": "11f86099-679f-4661-9482-6d2aa4c234ca"
      },
      "execution_count": null,
      "outputs": [
        {
          "output_type": "stream",
          "name": "stdout",
          "text": [
            "{'id': ['8852339', '8694184'], 'document': ['평점이왜이렇게낮지?난 이거 또다운받고있다.3번째...정말잼있던데...끝에 견자단하고 대빵하고싸울땐 정말 가슴이뜨거워졌다.난정말로 잼있게봤다...최근댓글이니 내가 알바아닌줄은 알거다.', '재미없습니다 그리고 신음 소리땜에 당황했네요 아 물런 전 21살 영화가 참 재미없어보였는데 평점들 보고 재밌구나 하고 봤는데 젠장 재수없게 속았네요 이런게 도대체 뭐가 재밌다는건지 망할만한 영화였습니다 전 공짜로봐서다행입니다 이걸돈내고보면미친년'], 'label': [1, 0]}\n",
            "{'input_ids': [[0, 9195, 10836, 8075, 8146, 10431, 7067, 8263, 406, 7058, 9018, 6853, 9108, 19012, 13372, 8155, 9016, 394, 10636, 29045, 8194, 7492, 8174, 8155, 7210, 7220, 29045, 7047, 8022, 9904, 8159, 7185, 9038, 9026, 7711, 9038, 7899, 8095, 7314, 29205, 42045, 7352, 6853, 8102, 34692, 7058, 8194, 14504, 739, 8174, 18479, 7662, 9016, 9705, 8393, 6949, 7204, 6951, 36609, 17582, 34790, 7965, 7174, 44852, 9181, 6853, 9016, 1], [0, 18767, 8015, 16913, 7182, 9394, 9084, 8139, 12867, 7316, 8022, 38491, 8718, 7098, 8084, 9050, 9169, 7399, 9034, 10742, 7760, 9097, 10444, 9338, 18767, 8015, 8006, 7652, 28683, 9195, 8191, 7285, 10056, 9150, 7592, 12226, 9676, 739, 7662, 9668, 43002, 8168, 9150, 7847, 8015, 6866, 9238, 7978, 7098, 8084, 10165, 6866, 9095, 33785, 46651, 6824, 9150, 7592, 9173, 6855, 8263, 10174, 8705, 13342, 10584, 8041, 16913, 7182, 9034, 9067, 8276, 7426, 7661, 7788, 7182, 8719, 8153, 7172, 7182, 9018, 6857, 7237, 11058, 18381, 7584, 8422, 7109, 1]], 'attention_mask': [[1, 1, 1, 1, 1, 1, 1, 1, 1, 1, 1, 1, 1, 1, 1, 1, 1, 1, 1, 1, 1, 1, 1, 1, 1, 1, 1, 1, 1, 1, 1, 1, 1, 1, 1, 1, 1, 1, 1, 1, 1, 1, 1, 1, 1, 1, 1, 1, 1, 1, 1, 1, 1, 1, 1, 1, 1, 1, 1, 1, 1, 1, 1, 1, 1, 1, 1, 1], [1, 1, 1, 1, 1, 1, 1, 1, 1, 1, 1, 1, 1, 1, 1, 1, 1, 1, 1, 1, 1, 1, 1, 1, 1, 1, 1, 1, 1, 1, 1, 1, 1, 1, 1, 1, 1, 1, 1, 1, 1, 1, 1, 1, 1, 1, 1, 1, 1, 1, 1, 1, 1, 1, 1, 1, 1, 1, 1, 1, 1, 1, 1, 1, 1, 1, 1, 1, 1, 1, 1, 1, 1, 1, 1, 1, 1, 1, 1, 1, 1, 1, 1, 1, 1, 1, 1, 1]]}\n"
          ]
        }
      ]
    },
    {
      "cell_type": "code",
      "metadata": {
        "colab": {
          "base_uri": "https://localhost:8080/"
        },
        "id": "68meGEPr9_zB",
        "outputId": "cca8c1de-e981-4eb1-b45b-4eb7dcadea40"
      },
      "source": [
        "train_ds = train_cs.map(lambda data: transform(data[\"document\"], tokenizer), remove_columns=[\"id\", \"document\"], batched=True).rename_column(\"label\", \"labels\")\n",
        "valid_ds = valid_cs.map(lambda data: transform(data[\"document\"], tokenizer), remove_columns=[\"id\", \"document\"], batched=True).rename_column(\"label\", \"labels\")\n",
        "test_ds = test_cs.map(lambda data: transform(data[\"document\"], tokenizer), remove_columns=[\"id\", \"document\"], batched=True).rename_column(\"label\", \"labels\")"
      ],
      "execution_count": null,
      "outputs": [
        {
          "output_type": "stream",
          "name": "stderr",
          "text": [
            "Loading cached processed dataset at /root/.cache/huggingface/datasets/nsmc/default/1.1.0/bfd4729bf1a67114e5267e6916b9e4807010aeb238e4a3c2b95fbfa3a014b5f3/cache-bdedceeafdd6abe6.arrow\n",
            "Loading cached processed dataset at /root/.cache/huggingface/datasets/nsmc/default/1.1.0/bfd4729bf1a67114e5267e6916b9e4807010aeb238e4a3c2b95fbfa3a014b5f3/cache-6934aba095c97eac.arrow\n",
            "Loading cached processed dataset at /root/.cache/huggingface/datasets/nsmc/default/1.1.0/bfd4729bf1a67114e5267e6916b9e4807010aeb238e4a3c2b95fbfa3a014b5f3/cache-38bf6deb999dc572.arrow\n"
          ]
        }
      ]
    },
    {
      "cell_type": "markdown",
      "metadata": {
        "id": "Vbhh6YZ2vbb5"
      },
      "source": [
        "## Prepare model\n",
        "single text classification을 수행하기위해서 `skt/kogpt2-base-v2`를 load합니다."
      ]
    },
    {
      "cell_type": "code",
      "metadata": {
        "colab": {
          "base_uri": "https://localhost:8080/"
        },
        "id": "P1zYxEolvdjH",
        "outputId": "2149edd8-da45-48e0-e638-31ca8553a1ec"
      },
      "source": [
        "from transformers import AutoModelForSequenceClassification\n",
        "\n",
        "model = AutoModelForSequenceClassification.from_pretrained(\"skt/kogpt2-base-v2\", num_labels=2)\n",
        "\n",
        "print(model.__class__)"
      ],
      "execution_count": null,
      "outputs": [
        {
          "output_type": "stream",
          "name": "stderr",
          "text": [
            "Some weights of the model checkpoint at skt/kogpt2-base-v2 were not used when initializing GPT2ForSequenceClassification: ['lm_head.weight']\n",
            "- This IS expected if you are initializing GPT2ForSequenceClassification from the checkpoint of a model trained on another task or with another architecture (e.g. initializing a BertForSequenceClassification model from a BertForPreTraining model).\n",
            "- This IS NOT expected if you are initializing GPT2ForSequenceClassification from the checkpoint of a model that you expect to be exactly identical (initializing a BertForSequenceClassification model from a BertForSequenceClassification model).\n",
            "Some weights of GPT2ForSequenceClassification were not initialized from the model checkpoint at skt/kogpt2-base-v2 and are newly initialized: ['score.weight']\n",
            "You should probably TRAIN this model on a down-stream task to be able to use it for predictions and inference.\n"
          ]
        },
        {
          "output_type": "stream",
          "name": "stdout",
          "text": [
            "<class 'transformers.models.gpt2.modeling_gpt2.GPT2ForSequenceClassification'>\n"
          ]
        }
      ]
    },
    {
      "cell_type": "markdown",
      "metadata": {
        "id": "GhMh1EP_x6ki"
      },
      "source": [
        "## Train model\n",
        "`Trainer` class를 이용하여 train합니다.\n",
        "\n",
        "- https://huggingface.co/transformers/custom_datasets.html?highlight=trainer#fine-tuning-with-trainer"
      ]
    },
    {
      "cell_type": "code",
      "metadata": {
        "id": "3Fe10emURec0"
      },
      "source": [
        "import numpy as np\n",
        "from transformers.data.data_collator import DataCollatorWithPadding\n",
        "from sklearn.metrics import accuracy_score\n",
        "\n",
        "\n",
        "def compute_metrics(p):\n",
        "    pred, labels = p\n",
        "    pred = np.argmax(pred, axis=1)\n",
        "    accuracy = accuracy_score(y_true=labels, y_pred=pred)\n",
        "    return {\"accuracy\": accuracy}\n",
        "\n",
        "\n",
        "batchify = DataCollatorWithPadding(\n",
        "    tokenizer = tokenizer,\n",
        "    padding = \"longest\",   \n",
        ")"
      ],
      "execution_count": null,
      "outputs": []
    },
    {
      "cell_type": "code",
      "source": [
        "# mini-batch 구성확인\n",
        "batchify(train_ds[:2])"
      ],
      "metadata": {
        "colab": {
          "base_uri": "https://localhost:8080/"
        },
        "id": "26CLhuFBxa4R",
        "outputId": "57fb3476-9093-43b2-ec05-2838f18cd911"
      },
      "execution_count": null,
      "outputs": [
        {
          "output_type": "execute_result",
          "data": {
            "text/plain": [
              "{'attention_mask': tensor([[1, 1, 1, 1, 1, 1, 1, 1, 1, 1, 1, 1, 1, 1, 1, 1, 1, 1, 1, 1, 1, 1, 1, 1,\n",
              "         1, 1, 1, 1, 1, 1, 1, 1, 1, 1, 1, 1, 1, 1, 1, 1, 1, 1, 1, 1, 1, 1, 1, 1,\n",
              "         1, 1, 1, 1, 1, 1, 1, 1, 1, 1, 1, 1, 1, 1, 1, 1, 1, 1, 1, 1, 0, 0, 0, 0,\n",
              "         0, 0, 0, 0, 0, 0, 0, 0, 0, 0, 0, 0, 0, 0, 0, 0],\n",
              "        [1, 1, 1, 1, 1, 1, 1, 1, 1, 1, 1, 1, 1, 1, 1, 1, 1, 1, 1, 1, 1, 1, 1, 1,\n",
              "         1, 1, 1, 1, 1, 1, 1, 1, 1, 1, 1, 1, 1, 1, 1, 1, 1, 1, 1, 1, 1, 1, 1, 1,\n",
              "         1, 1, 1, 1, 1, 1, 1, 1, 1, 1, 1, 1, 1, 1, 1, 1, 1, 1, 1, 1, 1, 1, 1, 1,\n",
              "         1, 1, 1, 1, 1, 1, 1, 1, 1, 1, 1, 1, 1, 1, 1, 1]]), 'input_ids': tensor([[    0,  9195, 10836,  8075,  8146, 10431,  7067,  8263,   406,  7058,\n",
              "          9018,  6853,  9108, 19012, 13372,  8155,  9016,   394, 10636, 29045,\n",
              "          8194,  7492,  8174,  8155,  7210,  7220, 29045,  7047,  8022,  9904,\n",
              "          8159,  7185,  9038,  9026,  7711,  9038,  7899,  8095,  7314, 29205,\n",
              "         42045,  7352,  6853,  8102, 34692,  7058,  8194, 14504,   739,  8174,\n",
              "         18479,  7662,  9016,  9705,  8393,  6949,  7204,  6951, 36609, 17582,\n",
              "         34790,  7965,  7174, 44852,  9181,  6853,  9016,     1,     3,     3,\n",
              "             3,     3,     3,     3,     3,     3,     3,     3,     3,     3,\n",
              "             3,     3,     3,     3,     3,     3,     3,     3],\n",
              "        [    0, 18767,  8015, 16913,  7182,  9394,  9084,  8139, 12867,  7316,\n",
              "          8022, 38491,  8718,  7098,  8084,  9050,  9169,  7399,  9034, 10742,\n",
              "          7760,  9097, 10444,  9338, 18767,  8015,  8006,  7652, 28683,  9195,\n",
              "          8191,  7285, 10056,  9150,  7592, 12226,  9676,   739,  7662,  9668,\n",
              "         43002,  8168,  9150,  7847,  8015,  6866,  9238,  7978,  7098,  8084,\n",
              "         10165,  6866,  9095, 33785, 46651,  6824,  9150,  7592,  9173,  6855,\n",
              "          8263, 10174,  8705, 13342, 10584,  8041, 16913,  7182,  9034,  9067,\n",
              "          8276,  7426,  7661,  7788,  7182,  8719,  8153,  7172,  7182,  9018,\n",
              "          6857,  7237, 11058, 18381,  7584,  8422,  7109,     1]]), 'labels': tensor([1, 0])}"
            ]
          },
          "metadata": {},
          "execution_count": 11
        }
      ]
    },
    {
      "cell_type": "code",
      "metadata": {
        "colab": {
          "base_uri": "https://localhost:8080/",
          "height": 1000
        },
        "id": "cAknoPtowJpJ",
        "outputId": "8141736c-187f-4ee4-a49b-8944b334eb2f"
      },
      "source": [
        "from transformers import Trainer, TrainingArguments\n",
        "\n",
        "training_args = TrainingArguments(\n",
        "    output_dir='./results',          \n",
        "    evaluation_strategy=\"steps\",\n",
        "    eval_steps=1000,\n",
        "    per_device_train_batch_size=32, \n",
        "    per_device_eval_batch_size=32,\n",
        "    learning_rate=1e-4,\n",
        "    weight_decay=0.01,\n",
        "    adam_beta1=.9,\n",
        "    adam_beta2=.95,\n",
        "    adam_epsilon=1e-8,\n",
        "    max_grad_norm=1.,\n",
        "    num_train_epochs=2,    \n",
        "    lr_scheduler_type=\"linear\",\n",
        "    warmup_steps=100,\n",
        "    logging_dir='./logs',\n",
        "    logging_strategy=\"steps\",\n",
        "    logging_first_step=True,\n",
        "    logging_steps=100,\n",
        "    save_strategy=\"epoch\",\n",
        "    seed=42,\n",
        "    dataloader_drop_last=False,\n",
        "    dataloader_num_workers=2\n",
        ")\n",
        "\n",
        "trainer = Trainer(\n",
        "    args=training_args,\n",
        "    data_collator=batchify,\n",
        "    model=model,\n",
        "    train_dataset=train_ds,\n",
        "    eval_dataset=valid_ds,\n",
        "    compute_metrics=compute_metrics\n",
        ")\n",
        "\n",
        "trainer.train()"
      ],
      "execution_count": null,
      "outputs": [
        {
          "output_type": "stream",
          "name": "stderr",
          "text": [
            "***** Running training *****\n",
            "  Num examples = 135000\n",
            "  Num Epochs = 2\n",
            "  Instantaneous batch size per device = 32\n",
            "  Total train batch size (w. parallel, distributed & accumulation) = 32\n",
            "  Gradient Accumulation steps = 1\n",
            "  Total optimization steps = 8438\n"
          ]
        },
        {
          "output_type": "display_data",
          "data": {
            "text/html": [
              "\n",
              "    <div>\n",
              "      \n",
              "      <progress value='8438' max='8438' style='width:300px; height:20px; vertical-align: middle;'></progress>\n",
              "      [8438/8438 41:44, Epoch 2/2]\n",
              "    </div>\n",
              "    <table border=\"1\" class=\"dataframe\">\n",
              "  <thead>\n",
              "    <tr style=\"text-align: left;\">\n",
              "      <th>Step</th>\n",
              "      <th>Training Loss</th>\n",
              "      <th>Validation Loss</th>\n",
              "      <th>Accuracy</th>\n",
              "    </tr>\n",
              "  </thead>\n",
              "  <tbody>\n",
              "    <tr>\n",
              "      <td>1000</td>\n",
              "      <td>0.405500</td>\n",
              "      <td>0.381275</td>\n",
              "      <td>0.836600</td>\n",
              "    </tr>\n",
              "    <tr>\n",
              "      <td>2000</td>\n",
              "      <td>0.376500</td>\n",
              "      <td>0.356812</td>\n",
              "      <td>0.844200</td>\n",
              "    </tr>\n",
              "    <tr>\n",
              "      <td>3000</td>\n",
              "      <td>0.355400</td>\n",
              "      <td>0.340670</td>\n",
              "      <td>0.850600</td>\n",
              "    </tr>\n",
              "    <tr>\n",
              "      <td>4000</td>\n",
              "      <td>0.352700</td>\n",
              "      <td>0.321341</td>\n",
              "      <td>0.861067</td>\n",
              "    </tr>\n",
              "    <tr>\n",
              "      <td>5000</td>\n",
              "      <td>0.312300</td>\n",
              "      <td>0.319070</td>\n",
              "      <td>0.862733</td>\n",
              "    </tr>\n",
              "    <tr>\n",
              "      <td>6000</td>\n",
              "      <td>0.292800</td>\n",
              "      <td>0.319536</td>\n",
              "      <td>0.863667</td>\n",
              "    </tr>\n",
              "    <tr>\n",
              "      <td>7000</td>\n",
              "      <td>0.291000</td>\n",
              "      <td>0.318115</td>\n",
              "      <td>0.868067</td>\n",
              "    </tr>\n",
              "    <tr>\n",
              "      <td>8000</td>\n",
              "      <td>0.292100</td>\n",
              "      <td>0.308145</td>\n",
              "      <td>0.870533</td>\n",
              "    </tr>\n",
              "  </tbody>\n",
              "</table><p>"
            ],
            "text/plain": [
              "<IPython.core.display.HTML object>"
            ]
          },
          "metadata": {}
        },
        {
          "output_type": "stream",
          "name": "stderr",
          "text": [
            "***** Running Evaluation *****\n",
            "  Num examples = 15000\n",
            "  Batch size = 32\n",
            "***** Running Evaluation *****\n",
            "  Num examples = 15000\n",
            "  Batch size = 32\n",
            "***** Running Evaluation *****\n",
            "  Num examples = 15000\n",
            "  Batch size = 32\n",
            "***** Running Evaluation *****\n",
            "  Num examples = 15000\n",
            "  Batch size = 32\n",
            "Saving model checkpoint to ./results/checkpoint-4219\n",
            "Configuration saved in ./results/checkpoint-4219/config.json\n",
            "Model weights saved in ./results/checkpoint-4219/pytorch_model.bin\n",
            "***** Running Evaluation *****\n",
            "  Num examples = 15000\n",
            "  Batch size = 32\n",
            "***** Running Evaluation *****\n",
            "  Num examples = 15000\n",
            "  Batch size = 32\n",
            "***** Running Evaluation *****\n",
            "  Num examples = 15000\n",
            "  Batch size = 32\n",
            "***** Running Evaluation *****\n",
            "  Num examples = 15000\n",
            "  Batch size = 32\n",
            "Saving model checkpoint to ./results/checkpoint-8438\n",
            "Configuration saved in ./results/checkpoint-8438/config.json\n",
            "Model weights saved in ./results/checkpoint-8438/pytorch_model.bin\n",
            "\n",
            "\n",
            "Training completed. Do not forget to share your model on huggingface.co/models =)\n",
            "\n",
            "\n"
          ]
        },
        {
          "output_type": "execute_result",
          "data": {
            "text/plain": [
              "TrainOutput(global_step=8438, training_loss=0.34378137800274766, metrics={'train_runtime': 2505.4299, 'train_samples_per_second': 107.766, 'train_steps_per_second': 3.368, 'total_flos': 9190508953337856.0, 'train_loss': 0.34378137800274766, 'epoch': 2.0})"
            ]
          },
          "metadata": {},
          "execution_count": 12
        }
      ]
    },
    {
      "cell_type": "code",
      "metadata": {
        "id": "VWOYNiWiotGQ",
        "colab": {
          "base_uri": "https://localhost:8080/",
          "height": 194
        },
        "outputId": "f5968f9f-3131-4319-92bf-3bedeb202fae"
      },
      "source": [
        "trainer.evaluate(test_ds)"
      ],
      "execution_count": null,
      "outputs": [
        {
          "output_type": "stream",
          "name": "stderr",
          "text": [
            "***** Running Evaluation *****\n",
            "  Num examples = 50000\n",
            "  Batch size = 32\n"
          ]
        },
        {
          "output_type": "display_data",
          "data": {
            "text/html": [
              "\n",
              "    <div>\n",
              "      \n",
              "      <progress value='1563' max='1563' style='width:300px; height:20px; vertical-align: middle;'></progress>\n",
              "      [1563/1563 02:12]\n",
              "    </div>\n",
              "    "
            ],
            "text/plain": [
              "<IPython.core.display.HTML object>"
            ]
          },
          "metadata": {}
        },
        {
          "output_type": "execute_result",
          "data": {
            "text/plain": [
              "{'epoch': 2.0,\n",
              " 'eval_accuracy': 0.86492,\n",
              " 'eval_loss': 0.3194427788257599,\n",
              " 'eval_runtime': 132.3289,\n",
              " 'eval_samples_per_second': 377.847,\n",
              " 'eval_steps_per_second': 11.811}"
            ]
          },
          "metadata": {},
          "execution_count": 13
        }
      ]
    }
  ]
}